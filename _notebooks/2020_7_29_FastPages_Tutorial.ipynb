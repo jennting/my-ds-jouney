{
  "nbformat": 4,
  "nbformat_minor": 0,
  "metadata": {
    "colab": {
      "name": "2020-7-29-FastPages-Tutorial.ipynb",
      "provenance": []
    },
    "kernelspec": {
      "name": "python3",
      "display_name": "Python 3"
    }
  },
  "cells": [
    {
      "cell_type": "code",
      "metadata": {
        "id": "mv1bxd1Ssxkp",
        "colab_type": "code",
        "colab": {}
      },
      "source": [
        ""
      ],
      "execution_count": null,
      "outputs": []
    },
    {
      "cell_type": "markdown",
      "metadata": {
        "id": "RVkHWs7Fs7HI",
        "colab_type": "text"
      },
      "source": [
        "# FastPages - How to Get Started\n",
        "> Blog in just 15 mins\n",
        "\n",
        "- toc: false\n",
        "- branch: master\n",
        "- badges: true\n",
        "- comments: False\n",
        "- categories: [fastpages, jupyter]\n",
        "- hide: false\n",
        "- author: Jennifer Li"
      ]
    },
    {
      "cell_type": "code",
      "metadata": {
        "id": "QCpgEwTfueaK",
        "colab_type": "code",
        "colab": {}
      },
      "source": [
        "#hide_input\n",
        "img_url ='https://raw.githubusercontent.com/fastai/fastpages/master/images/diagram.png'"
      ],
      "execution_count": 1,
      "outputs": []
    }
  ]
}